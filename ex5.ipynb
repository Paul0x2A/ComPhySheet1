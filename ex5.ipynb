{
 "cells": [
  {
   "cell_type": "code",
   "execution_count": null,
   "id": "initial_id",
   "metadata": {
    "collapsed": true
   },
   "outputs": [],
   "source": [
    "import numpy as np\n",
    "import network\n",
    "import matplotlib.pyplot as plt\n",
    "from scipy import stats"
   ]
  },
  {
   "metadata": {},
   "cell_type": "markdown",
   "source": [
    "## Aufgabe 5\n",
    "> Hypothese: $\\xi \\propto |p_c - p|^{-\\nu}$ für $p < p_c$ und $p \\rightarrow p_c$\n",
    "\n",
    "> Vorgehen: Linearisierung durch doppelt-logarithmische Auftragung"
   ],
   "id": "f3202cd93546eb8f"
  },
  {
   "metadata": {},
   "cell_type": "code",
   "outputs": [],
   "execution_count": null,
   "source": [
    "L = 1000  # size of simulated networks\n",
    "num = 100  # number of tested probabilities\n",
    "p_c = 0.593   # see ex 2\n",
    "\n",
    "p_arr = np.linspace(0, p_c, num)    # array of simulated probabilities\n",
    "ln_zeta = []\n",
    "ln_dp = []\n",
    "j = 0\n",
    "\n",
    "for p in p_arr:\n",
    "\n",
    "    # print simulation-progress\n",
    "    print(str(j*100/num)+'%')\n",
    "    j += 1\n",
    "\n",
    "    net = network.Network(L, L, p)\n",
    "    net.hoshen_kopelman()\n",
    "    zeta = net.correlation_length()\n",
    "    dp = abs(p - p_c)\n",
    "\n",
    "    # exclude percolating systems (condition p < p_c) and special cases\n",
    "    if dp > 0 and zeta > 0 and not net.is_perculating() :\n",
    "        ln_zeta.append(np.log(zeta))\n",
    "        ln_dp.append(np.log(dp))\n",
    "\n",
    "\n",
    "# plotting and linear regression\n",
    "ln_dp_interpolate = np.linspace(ln_dp[0], ln_dp[-1], num)\n",
    "plt.scatter(ln_dp, ln_zeta, s=4, c='r', label='Simulation')\n",
    "res = stats.linregress(ln_dp, ln_zeta)\n",
    "plt.plot(ln_dp_interpolate, ln_dp_interpolate * res.slope + res.intercept, label=r'ln($\\zeta$) = ('\n",
    "        +str(round(res.slope, 2))+r'$ \\pm '+str(round(res.stderr, 2))+r') \\cdot \\ln(|p-p_c|) + $('\n",
    "        +str(round(res.intercept, 2))+r' $\\pm $'+str(round(res.intercept_stderr, 2))+')', linewidth=2, color='black')\n",
    "\n",
    "plt.legend()\n",
    "plt.grid()\n",
    "plt.xlabel(r'ln(|$p-p_c$|)')\n",
    "plt.ylabel(r'ln($\\zeta$)')\n",
    "plt.savefig('testex5')"
   ],
   "id": "7b605f15a0742892"
  },
  {
   "metadata": {},
   "cell_type": "markdown",
   "source": "Die Berechnung der Korrelationslänge findet in der Network-Klasse mit folgender Methode statt:",
   "id": "da0ebdafc469ce1b"
  },
  {
   "metadata": {},
   "cell_type": "code",
   "outputs": [],
   "execution_count": null,
   "source": [
    "def correlation_length(self):\n",
    "    if not self.analysed: self.hoshen_kopelman()    # check that network is analyzed\n",
    "    avg_square_distance = 0\n",
    "    second_moment = 0\n",
    "    cluster_sizes = self.cluster_sizes()\n",
    "    for s in cluster_sizes:\n",
    "        n_s = cluster_sizes[s] / (self.width * self.height)     # probability that a random tile belongs to a cluster of size s\n",
    "        avg_square_distance += 2 * self.r_s_squared(s) * n_s * (s ** 2)\n",
    "        second_moment += (s ** 2) * n_s\n",
    "\n",
    "    return 0 if second_moment == 0 else np.sqrt(avg_square_distance / second_moment)\n"
   ],
   "id": "5f90d972d0154533"
  },
  {
   "metadata": {},
   "cell_type": "markdown",
   "source": "Die Berechnung von $R_S^2 = \\sum_{i, j} \\frac{|\\mathbf{r_i - r_j}|^2}{S^2}$ erfolgt mithilfe der folgenden Klassen-Methode:",
   "id": "f2158d08143bc0dd"
  },
  {
   "metadata": {},
   "cell_type": "code",
   "outputs": [],
   "execution_count": null,
   "source": [
    "def r_s_squared(self, s):\n",
    "\n",
    "    # for clusters of size 0 or 1 return 0\n",
    "    if s <= 1.0:\n",
    "        return 0\n",
    "\n",
    "    self.fix_labels()\n",
    "    labels = np.where(self.N == s)[0]\n",
    "\n",
    "    # check existence of sufficient labels\n",
    "    if len(labels) == 0:\n",
    "        return 0\n",
    "\n",
    "    r_squared = 0\n",
    "\n",
    "    # loop over all clusters of size s\n",
    "    for label in labels:\n",
    "\n",
    "        n = np.copy(self.labeled_network)   # copy to not modify this network\n",
    "        n[n != label] = 0                   # set all wich are not the cluster to 0\n",
    "        n = n[~np.all(n == 0, axis=1)]      # delete columns with 0\n",
    "        n = n[:, ~np.all(n == 0, axis=0)]   # delete rows with 0\n",
    "\n",
    "        # loop over all coordinate-combinations\n",
    "        for i in range(len(n)):\n",
    "            for j in range(len(n[i])):\n",
    "                if n[i][j] != 0:\n",
    "                    for k in range(len(n)):\n",
    "                        for l in range(len(n[i])):\n",
    "                            if n[k][l] != 0:\n",
    "                                r_squared += ((i - k)**2 + (j - l)**2)\n",
    "\n",
    "    r_squared /= (2 * s * s)    # factor 2 takes care of redundant term in the sum\n",
    "    r_squared /= len(labels)    # normalize by the number of investigated clusters\n",
    "    return r_squared\n"
   ],
   "id": "af9f248c5560dbb0"
  }
 ],
 "metadata": {
  "kernelspec": {
   "display_name": "Python 3",
   "language": "python",
   "name": "python3"
  },
  "language_info": {
   "codemirror_mode": {
    "name": "ipython",
    "version": 2
   },
   "file_extension": ".py",
   "mimetype": "text/x-python",
   "name": "python",
   "nbconvert_exporter": "python",
   "pygments_lexer": "ipython2",
   "version": "2.7.6"
  }
 },
 "nbformat": 4,
 "nbformat_minor": 5
}
