{
 "cells": [
  {
   "cell_type": "code",
   "execution_count": null,
   "id": "initial_id",
   "metadata": {
    "collapsed": true
   },
   "outputs": [],
   "source": [
    "import numpy as np\n",
    "import network\n",
    "import matplotlib.pyplot as plt\n",
    "from scipy import stats"
   ]
  },
  {
   "metadata": {},
   "cell_type": "markdown",
   "source": [
    "## Aufgabe 5\n",
    "\n",
    "> Hypothese: $\\xi \\propto |p-p_c|^{-\\nu}$ für $p < p_c$ und $p \\rightarrow p_c$\n",
    " \n",
    "> Vorgehen: Linearisierung durch doppelt-logarithmische Auftragung\n"
   ],
   "id": "f0fb59546ef80510"
  },
  {
   "metadata": {},
   "cell_type": "code",
   "outputs": [],
   "execution_count": null,
   "source": [
    "L = 500  # size of simulated networks\n",
    "num = 100  # number of tested probabilities\n",
    "p_c = 0.593   # see ex 2\n",
    "\n",
    "p_arr = np.linspace(0, p_c, num)    # array of simulated probabilities\n",
    "ln_xi = []\n",
    "ln_dp = []\n",
    "j = 0\n",
    "\n",
    "for p in p_arr:\n",
    "\n",
    "    # print simulation-progress\n",
    "    print(str(j*100/num)+'%')\n",
    "    j += 1\n",
    "\n",
    "    net = network.Network(L, L, p)\n",
    "    net.hoshen_kopelman()\n",
    "    xi = net.correlation_length()\n",
    "    dp = abs(p - p_c)\n",
    "\n",
    "    # exclude percolating systems (condition p < p_c) and special cases\n",
    "    if dp > 0 and xi > 0 and not net.is_perculating() :\n",
    "        ln_xi.append(np.log(xi))\n",
    "        ln_dp.append(np.log(dp))\n",
    "\n",
    "\n",
    "# plotting and linear regression\n",
    "ln_dp_interpolate = np.linspace(ln_dp[0], ln_dp[-1], num)\n",
    "plt.scatter(ln_dp, ln_xi, s=4, c='r', label='Simulation')\n",
    "res = stats.linregress(ln_dp, ln_xi)\n",
    "plt.plot(ln_dp_interpolate, ln_dp_interpolate * res.slope + res.intercept, label=r'ln($\\xi$) = ('\n",
    "        +str(round(res.slope, 2))+'$ \\pm '+str(round(res.stderr, 2))+') \\cdot \\ln(|p-p_c|) + $('\n",
    "        +str(round(res.intercept, 2))+' $\\pm $'+str(round(res.intercept_stderr, 2))+')', linewidth=2, color='black')\n",
    "\n",
    "plt.legend()\n",
    "plt.grid()\n",
    "plt.xlabel('ln(|$p-p_c$|)')\n",
    "plt.ylabel(r'ln($\\xi$)')"
   ],
   "id": "1ef1f6b4e98cdc40"
  }
 ],
 "metadata": {
  "kernelspec": {
   "display_name": "Python 3",
   "language": "python",
   "name": "python3"
  },
  "language_info": {
   "codemirror_mode": {
    "name": "ipython",
    "version": 2
   },
   "file_extension": ".py",
   "mimetype": "text/x-python",
   "name": "python",
   "nbconvert_exporter": "python",
   "pygments_lexer": "ipython2",
   "version": "2.7.6"
  }
 },
 "nbformat": 4,
 "nbformat_minor": 5
}
