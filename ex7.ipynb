{
 "cells": [
  {
   "cell_type": "code",
   "execution_count": null,
   "id": "initial_id",
   "metadata": {
    "collapsed": true
   },
   "outputs": [],
   "source": [
    "import numpy as np\n",
    "import matplotlib.pyplot as plt\n",
    "import network\n"
   ]
  },
  {
   "metadata": {},
   "cell_type": "markdown",
   "source": [
    "## Aufgabe 7\n",
    "> Finite-Size-Scaling-Hypothese: Das Verhältnis von Besetzungswkeit. $p$ und Stärke $P_L(p)$ nähert sich nahe der Perlokationswkeit. für alle L einer Makrokurve "
   ],
   "id": "ad3df74f46b877c3"
  },
  {
   "metadata": {},
   "cell_type": "code",
   "outputs": [],
   "execution_count": null,
   "source": [
    "def get_relative_size_of_largest_percolating_cluster(net: network.Network):\n",
    "    return net.N[net.get_largest_percolating_cluster()] / net.get_total_occupied_spots()\n",
    "\n",
    "\n",
    "num_p = 200\n",
    "beta = 5 / 36\n",
    "nu = 4 / 3\n",
    "p_c = 0.593\n",
    "L_arr = [10, 50, 100, 200, 500, 1000]\n",
    "num_L = len(L_arr)\n",
    "p_arr = np.linspace(p_c - 0.1, p_c + 0.3, num_p)\n",
    "\n",
    "x = []\n",
    "y = []\n",
    "\n",
    "for i in range(len(L_arr)):\n",
    "\n",
    "    x_L = []\n",
    "    y_L = []\n",
    "    for j in range(len(p_arr)):\n",
    "\n",
    "        # print progress\n",
    "        print(str(round(100 * (i * num_p + j) / (num_p * num_L), 1))+'%')\n",
    "\n",
    "        L = L_arr[i]\n",
    "        p = p_arr[j]\n",
    "        net = network.Network(L, L, p)\n",
    "        net.hoshen_kopelman()\n",
    "\n",
    "        if not net.is_percolating():\n",
    "            continue\n",
    "\n",
    "        y_L.append(((L ** (beta / nu)) * get_relative_size_of_largest_percolating_cluster(net)))\n",
    "        x_L.append(((p - p_c) * (L ** (1 / nu))))\n",
    "\n",
    "    x.append(x_L)\n",
    "    y.append(y_L)\n",
    "\n",
    "for i in range(len(x)):\n",
    "    plt.scatter(x[i], y[i], label='L = '+str(L_arr[i]), s=6)\n",
    "\n",
    "plt.legend()\n",
    "plt.grid()\n",
    "plt.xlabel(r'$(p - p_c) L^{1/\\nu}$')\n",
    "plt.ylabel(r'$P_L L^{\\beta / \\nu}$')\n",
    "plt.savefig('ex7')"
   ],
   "id": "b59b781895ec06e6"
  },
  {
   "metadata": {},
   "cell_type": "markdown",
   "source": [
    "# Ausgabe\n",
    "![alt text](out/ex7.png \"Ausgabe\")"
   ],
   "id": "4a8f79b2ae2cf64e"
  }
 ],
 "metadata": {
  "kernelspec": {
   "display_name": "Python 3",
   "language": "python",
   "name": "python3"
  },
  "language_info": {
   "codemirror_mode": {
    "name": "ipython",
    "version": 2
   },
   "file_extension": ".py",
   "mimetype": "text/x-python",
   "name": "python",
   "nbconvert_exporter": "python",
   "pygments_lexer": "ipython2",
   "version": "2.7.6"
  }
 },
 "nbformat": 4,
 "nbformat_minor": 5
}
