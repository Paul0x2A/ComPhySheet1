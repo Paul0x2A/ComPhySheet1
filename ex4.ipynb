{
 "cells": [
  {
   "cell_type": "code",
   "id": "initial_id",
   "metadata": {
    "collapsed": true,
    "ExecuteTime": {
     "end_time": "2024-11-25T22:51:46.461092Z",
     "start_time": "2024-11-25T22:51:46.449783Z"
    }
   },
   "source": [
    "%load_ext autoreload\n",
    "%autoreload 2\n",
    "\n",
    "import numpy as np\n",
    "import network\n",
    "import matplotlib.pyplot as plt\n",
    "from scipy import stats"
   ],
   "outputs": [
    {
     "name": "stdout",
     "output_type": "stream",
     "text": [
      "The autoreload extension is already loaded. To reload it, use:\n",
      "  %reload_ext autoreload\n"
     ]
    }
   ],
   "execution_count": 4
  },
  {
   "metadata": {},
   "cell_type": "markdown",
   "source": [
    "## Aufgabe 4\n",
    "Die mittlere Clustergröße $S$ eines Netzwerks wird als Funktion 'average_cluster_size()' in die Klasse 'Network' eingebunden. \n",
    "\n",
    "> Hypothese: $L \\propto |p_c - p|^{-\\gamma}$ für $p < p_c$ und $p \\rightarrow p_c$\n",
    "\n",
    "> Vorgehen: Linearisierung durch doppelt-logarithmische Auftragung"
   ],
   "id": "d07c76e2df165446"
  },
  {
   "metadata": {
    "ExecuteTime": {
     "end_time": "2024-11-25T22:52:09.154805Z",
     "start_time": "2024-11-25T22:52:09.127990Z"
    }
   },
   "cell_type": "code",
   "source": [
    "L = 2000    # size of simulated networks\n",
    "num = 1000  # number of tested probabilities\n",
    "p_c = 0.6   # see ex 2\n",
    "\n",
    "p_arr = np.linspace(0, p_c, num)    # array of simulated probabilities\n",
    "ln_S = []\n",
    "ln_dp = []\n",
    "j = 0\n",
    "\n",
    "for p in p_arr:\n",
    "\n",
    "    # print simulation-progress\n",
    "    print(str(j*100/num)+'%')\n",
    "    j +=1\n",
    "\n",
    "    net = network.Network(L, L, p)\n",
    "    net.hoshen_kopelman()\n",
    "    S = net.average_cluster_size()\n",
    "    dp = abs(p - p_c)\n",
    "\n",
    "    # exclude percolating systems (condition p < p_c) and special cases\n",
    "    if dp > 0 and S > 0 and not net.is_perculating() :\n",
    "        ln_S.append(np.log(S))\n",
    "        ln_dp.append(np.log(dp))\n",
    "\n",
    "\n",
    "# plotting and linear regression\n",
    "ln_dp_interpolate = np.linspace(ln_dp[0], ln_dp[-1], num)\n",
    "plt.scatter(ln_dp, ln_S, s=4, c='g', label='Simulation')\n",
    "res = stats.linregress(ln_dp, ln_S)\n",
    "plt.plot(ln_dp_interpolate, ln_dp_interpolate * res.slope + res.intercept, label='ln(S) = '\n",
    "        +str(round(res.slope, 2))+'$ \\cdot \\ln(|p-p_c|) $+'+str(round(res.intercept, 2)), linewidth=2, color='black')\n",
    "plt.legend()\n",
    "plt.grid()\n",
    "plt.xlabel('ln(|$p-p_c$|)')\n",
    "plt.ylabel('ln($S$)')"
   ],
   "id": "a8e848c88fe6e34d",
   "outputs": [
    {
     "name": "stdout",
     "output_type": "stream",
     "text": [
      "0.0%\n",
      "1.0%\n"
     ]
    },
    {
     "ename": "AttributeError",
     "evalue": "'Network' object has no attribute 'is_perculating'",
     "output_type": "error",
     "traceback": [
      "\u001B[0;31m---------------------------------------------------------------------------\u001B[0m",
      "\u001B[0;31mAttributeError\u001B[0m                            Traceback (most recent call last)",
      "Cell \u001B[0;32mIn[9], line 23\u001B[0m\n\u001B[1;32m     20\u001B[0m dp \u001B[38;5;241m=\u001B[39m \u001B[38;5;28mabs\u001B[39m(p \u001B[38;5;241m-\u001B[39m p_c)\n\u001B[1;32m     22\u001B[0m \u001B[38;5;66;03m# exclude percolating systems (condition p < p_c) and special cases\u001B[39;00m\n\u001B[0;32m---> 23\u001B[0m \u001B[38;5;28;01mif\u001B[39;00m dp \u001B[38;5;241m>\u001B[39m \u001B[38;5;241m0\u001B[39m \u001B[38;5;129;01mand\u001B[39;00m S \u001B[38;5;241m>\u001B[39m \u001B[38;5;241m0\u001B[39m \u001B[38;5;129;01mand\u001B[39;00m \u001B[38;5;129;01mnot\u001B[39;00m \u001B[43mnet\u001B[49m\u001B[38;5;241;43m.\u001B[39;49m\u001B[43mis_perculating\u001B[49m() :\n\u001B[1;32m     24\u001B[0m     ln_S\u001B[38;5;241m.\u001B[39mappend(np\u001B[38;5;241m.\u001B[39mlog(S))\n\u001B[1;32m     25\u001B[0m     ln_dp\u001B[38;5;241m.\u001B[39mappend(np\u001B[38;5;241m.\u001B[39mlog(dp))\n",
      "\u001B[0;31mAttributeError\u001B[0m: 'Network' object has no attribute 'is_perculating'"
     ]
    }
   ],
   "execution_count": 9
  },
  {
   "metadata": {},
   "cell_type": "markdown",
   "source": "",
   "id": "ab4734c47dbbe511"
  },
  {
   "metadata": {},
   "cell_type": "markdown",
   "source": [
    "# Ausgabe:\n",
    "\n",
    "\n",
    "![alt text](out/ex4-1.png \"Ausgabe 1\")\n",
    "\n",
    "\n",
    "![alt text](out/ex4-2.png \"Ausgabe 2\")"
   ],
   "id": "560dd31052386782"
  },
  {
   "metadata": {},
   "cell_type": "markdown",
   "source": ">Vergleichswert von Wikipedia: $\\gamma = 43 / 18 \\approx 2,39$\n",
   "id": "76558ed368b22e94"
  }
 ],
 "metadata": {
  "kernelspec": {
   "display_name": "Python 3",
   "language": "python",
   "name": "python3"
  },
  "language_info": {
   "codemirror_mode": {
    "name": "ipython",
    "version": 2
   },
   "file_extension": ".py",
   "mimetype": "text/x-python",
   "name": "python",
   "nbconvert_exporter": "python",
   "pygments_lexer": "ipython2",
   "version": "2.7.6"
  }
 },
 "nbformat": 4,
 "nbformat_minor": 5
}
