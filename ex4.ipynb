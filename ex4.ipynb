{
 "cells": [
  {
   "cell_type": "code",
   "execution_count": null,
   "id": "initial_id",
   "metadata": {
    "collapsed": true
   },
   "outputs": [],
   "source": [
    "%load_ext autoreload\n",
    "%autoreload 2\n",
    "\n",
    "import numpy as np\n",
    "import network\n",
    "import ex2b\n",
    "import matplotlib.pyplot as plt\n",
    "from scipy import stats"
   ]
  },
  {
   "metadata": {},
   "cell_type": "markdown",
   "source": [
    "## Aufgabe 4\n",
    "Die mittlere Clustergröße $S$ eines Netzwerks wird als Funktion 'average_cluster_size()' in die Klasse 'Network' eingebunden. \n",
    "\n",
    "> Hypothese: $L \\propto |p_c - p|^{-\\gamma}$ für $p < p_c$ und $p \\rightarrow p_c$\n",
    "\n",
    "> Vorgehen: Linearisierung durch doppelt-logarithmische Auftragung"
   ],
   "id": "d07c76e2df165446"
  },
  {
   "metadata": {
    "ExecuteTime": {
     "end_time": "2024-11-12T20:11:27.314475Z",
     "start_time": "2024-11-12T20:11:27.292342Z"
    }
   },
   "cell_type": "code",
   "source": [
    "L = 5000    # size of simulated networks\n",
    "num = 10000  # number of tested probabilities\n",
    "p_c = 0.6   # see ex 2\n",
    "\n",
    "p_arr = np.linspace(0, p_c, num)    # array of simulated probabilities\n",
    "ln_S = []\n",
    "ln_dp = []\n",
    "j = 0\n",
    "\n",
    "for p in p_arr:\n",
    "\n",
    "    # print simulation-progress\n",
    "    print(str(j*100/num)+'%')\n",
    "    j +=1\n",
    "\n",
    "    net = network.Network(L, L, p)\n",
    "    net.hoshen_kopelman()\n",
    "    S = net.average_cluster_size()\n",
    "    dp = abs(p - p_c)\n",
    "\n",
    "    # exclude percolating systems (condition p < p_c) and special cases\n",
    "    if dp > 0 and S > 0 and not net.is_perculating() :\n",
    "        ln_S.append(np.log(S))\n",
    "        ln_dp.append(np.log(dp))\n",
    "\n",
    "\n",
    "# plotting and linear regression\n",
    "ln_dp_interpolate = np.linspace(ln_dp[0], ln_dp[-1], num)\n",
    "plt.scatter(ln_dp, ln_S, s=4, c='g', label='Simulation')\n",
    "res = stats.linregress(ln_dp, ln_S)\n",
    "plt.plot(ln_dp_interpolate, ln_dp_interpolate * res.slope + res.intercept, label='ln(S) = '\n",
    "        +str(round(res.slope, 2))+'$ \\cdot \\ln(|p-p_c|) $+'+str(round(res.intercept, 2)), linewidth=2, color='black')\n",
    "plt.legend()\n",
    "plt.grid()\n",
    "plt.xlabel('ln(|$p-p_c$|)')\n",
    "plt.ylabel('ln($S$)')"
   ],
   "id": "a8e848c88fe6e34d",
   "outputs": [
    {
     "ename": "NameError",
     "evalue": "name 'np' is not defined",
     "output_type": "error",
     "traceback": [
      "\u001B[0;31m---------------------------------------------------------------------------\u001B[0m",
      "\u001B[0;31mNameError\u001B[0m                                 Traceback (most recent call last)",
      "Cell \u001B[0;32mIn[3], line 5\u001B[0m\n\u001B[1;32m      2\u001B[0m num \u001B[38;5;241m=\u001B[39m \u001B[38;5;241m100\u001B[39m  \u001B[38;5;66;03m# number of tested probabilities\u001B[39;00m\n\u001B[1;32m      4\u001B[0m p_c \u001B[38;5;241m=\u001B[39m \u001B[38;5;241m0.6\u001B[39m   \u001B[38;5;66;03m# see ex 2\u001B[39;00m\n\u001B[0;32m----> 5\u001B[0m p_arr \u001B[38;5;241m=\u001B[39m \u001B[43mnp\u001B[49m\u001B[38;5;241m.\u001B[39mlinspace(\u001B[38;5;241m0\u001B[39m, p_c, num)    \u001B[38;5;66;03m# array of simulated probabilities\u001B[39;00m\n\u001B[1;32m      6\u001B[0m ln_S \u001B[38;5;241m=\u001B[39m []\n\u001B[1;32m      7\u001B[0m ln_dp \u001B[38;5;241m=\u001B[39m []\n",
      "\u001B[0;31mNameError\u001B[0m: name 'np' is not defined"
     ]
    }
   ],
   "execution_count": 3
  }
 ],
 "metadata": {
  "kernelspec": {
   "display_name": "Python 3",
   "language": "python",
   "name": "python3"
  },
  "language_info": {
   "codemirror_mode": {
    "name": "ipython",
    "version": 2
   },
   "file_extension": ".py",
   "mimetype": "text/x-python",
   "name": "python",
   "nbconvert_exporter": "python",
   "pygments_lexer": "ipython2",
   "version": "2.7.6"
  }
 },
 "nbformat": 4,
 "nbformat_minor": 5
}
