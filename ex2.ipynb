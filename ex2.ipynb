{
 "cells": [
  {
   "cell_type": "code",
   "id": "initial_id",
   "metadata": {
    "collapsed": true,
    "ExecuteTime": {
     "end_time": "2024-11-19T17:20:46.654284Z",
     "start_time": "2024-11-19T17:20:46.084096Z"
    }
   },
   "source": [
    "%load_ext autoreload\n",
    "%autoreload 2\n",
    "\n",
    "import time\n",
    "from functools import partial\n",
    "\n",
    "import network\n",
    "import numpy as np\n",
    "import matplotlib.pyplot as plt\n",
    "from multiprocessing import Pool\n",
    "\n",
    "from numba import jit, objmode, types\n",
    "from numba import int32, uint32, float32, bool"
   ],
   "outputs": [],
   "execution_count": 1
  },
  {
   "cell_type": "markdown",
   "id": "8e25e50e0932462",
   "metadata": {},
   "source": [
    "Echter code befindet sich in ex2b.py. Jupyter verträgt sich nicht mit multiprocessing. Daher nur plotten der Ergebnissse hier."
   ]
  },
  {
   "metadata": {
    "ExecuteTime": {
     "end_time": "2024-11-19T18:37:30.408496Z",
     "start_time": "2024-11-19T18:37:22.087492Z"
    }
   },
   "cell_type": "code",
   "source": [
    "@jit()\n",
    "def to_str(num):\n",
    "    return f'{int(num * 1e6)}'\n",
    "\n",
    "@jit(float32(int32, float32, float32[:])) # annotate to tell numba to compile (argument is the method signature, its optional but can help prevent issues)\n",
    "def calc_pc_once2(L, min_p=0.5, info=None):\n",
    "    if info is None: info = np.zeros(2, dtype=np.float32)\n",
    "    step_step = 5.0 # factor to decrease step by\n",
    "    step = 0.02 * step_step # amount to increase p by each iteration (increased, because it's decreased at the start)\n",
    "    p = min_p + step # start p ((increased, because it's decreased at the start))\n",
    "    for i in range(5): # divide step 5 times in total\n",
    "        p -= step # go back a step because it might have percolated\n",
    "        step /= step_step # lower resolution and search again, start with 0.02 -> 0.004 -> 0.0008 -> 0.00016 -> 0.000032 -> 0.0000064\n",
    "        percolated = False\n",
    "        while not percolated:\n",
    "            n = network.Network(int(L), int(L), p)\n",
    "            n.hoshen_kopelman()\n",
    "            info[1] += 1 # total number of grids\n",
    "            if n.is_percolating():\n",
    "                if i == 0 and p < min_p + step:\n",
    "                    raise Exception(\"starting p was set to high\")\n",
    "                percolated = True # search again with lower resolution\n",
    "            else:\n",
    "                p += step # not percolating, try higher p\n",
    "    return p\n",
    "\n",
    "# finds smallest p where a grid of size L perculates with multiple runs and averaging the result\n",
    "@jit(float32(int32, float32, int32, float32[:]), fastmath=True)\n",
    "def calc_pc(L, min_p=0.50, amount=50, fail=None):\n",
    "    pcs = np.zeros(amount)\n",
    "    for i in range(amount):\n",
    "        pcs[i] = calc_pc_once2(L, min_p, fail)\n",
    "    #print(pcs)\n",
    "    return np.average(pcs[pcs > 0])\n",
    "\n",
    "def do_ex(L, min_p=0.50, amount=50):\n",
    "    info = np.zeros(2, dtype=np.float32)\n",
    "    t = time.perf_counter()\n",
    "    pc = calc_pc(L, min_p, amount, info)\n",
    "    print(f'Size {L} took {round(time.perf_counter() - t, 4)} seconds for a total of {info[1]} grids and min_p {min_p}')\n",
    "    return pc"
   ],
   "id": "7851a758915a5549",
   "outputs": [],
   "execution_count": 44
  },
  {
   "metadata": {
    "ExecuteTime": {
     "end_time": "2024-11-19T18:42:40.807214Z",
     "start_time": "2024-11-19T18:40:52.398113Z"
    }
   },
   "cell_type": "code",
   "source": [
    "\n",
    "exp = np.array(range(3, 11 + 1))\n",
    "pc = np.zeros(len(exp))\n",
    "for i in exp:\n",
    "    pc[i-3] = do_ex(2**i, min_p=0.5 if i >= 6 else (i-1)*0.1)\n"
   ],
   "id": "e73494514dda47f7",
   "outputs": [
    {
     "name": "stdout",
     "output_type": "stream",
     "text": [
      "Size 8 took 0.0072 seconds for a total of 2000.0 grids and min_p 0.2\n",
      "Size 16 took 0.0089 seconds for a total of 1448.0 grids and min_p 0.30000000000000004\n",
      "Size 32 took 0.0209 seconds for a total of 1343.0 grids and min_p 0.4\n",
      "Size 64 took 0.0525 seconds for a total of 1007.0 grids and min_p 0.5\n",
      "Size 128 took 0.1975 seconds for a total of 1055.0 grids and min_p 0.5\n",
      "Size 256 took 0.6773 seconds for a total of 943.0 grids and min_p 0.5\n",
      "Size 512 took 4.2073 seconds for a total of 1029.0 grids and min_p 0.5\n",
      "Size 1024 took 20.0864 seconds for a total of 1054.0 grids and min_p 0.5\n",
      "Size 2048 took 83.0835 seconds for a total of 1068.0 grids and min_p 0.5\n"
     ]
    }
   ],
   "execution_count": 45
  },
  {
   "metadata": {
    "ExecuteTime": {
     "end_time": "2024-11-19T18:49:54.739367Z",
     "start_time": "2024-11-19T18:49:54.665013Z"
    }
   },
   "cell_type": "code",
   "source": [
    "old_exp = exp\n",
    "old_pc = pc\n",
    "\n",
    "def reset():\n",
    "    exp = old_exp\n",
    "    pc = old_pc\n",
    "\n",
    "def do_next():\n",
    "    global exp, pc\n",
    "    exp = np.array([*exp, exp[-1] + 1])\n",
    "    pc = np.array([*pc, 0])\n",
    "    pc[-1] = do_ex(2**exp[-1], min_p=0.5)"
   ],
   "id": "6481773804941245",
   "outputs": [],
   "execution_count": 47
  },
  {
   "metadata": {
    "ExecuteTime": {
     "end_time": "2024-11-19T18:55:48.351226Z",
     "start_time": "2024-11-19T18:50:11.891993Z"
    }
   },
   "cell_type": "code",
   "source": "do_next() # 4096",
   "id": "1fd39cd16521b483",
   "outputs": [
    {
     "name": "stdout",
     "output_type": "stream",
     "text": [
      "Size 4096 took 336.4027 seconds for a total of 1074.0 grids and min_p 0.5\n"
     ]
    }
   ],
   "execution_count": 48
  },
  {
   "metadata": {
    "ExecuteTime": {
     "end_time": "2024-11-19T19:18:45.545542Z",
     "start_time": "2024-11-19T18:58:03.967145Z"
    }
   },
   "cell_type": "code",
   "source": "do_next() # 8192",
   "id": "93be7e71a1cc71d8",
   "outputs": [
    {
     "name": "stdout",
     "output_type": "stream",
     "text": [
      "Size 8192 took 1241.4763 seconds for a total of 1033.0 grids and min_p 0.5\n"
     ]
    }
   ],
   "execution_count": 50
  },
  {
   "metadata": {},
   "cell_type": "code",
   "outputs": [],
   "execution_count": null,
   "source": "do_next()",
   "id": "ecc3bbe8fa1bac43"
  },
  {
   "metadata": {
    "ExecuteTime": {
     "end_time": "2024-11-19T19:19:42.356725Z",
     "start_time": "2024-11-19T19:19:42.188368Z"
    }
   },
   "cell_type": "code",
   "source": [
    "print(pc)\n",
    "fig, ax = plt.subplots()\n",
    "ax.plot(2**exp, pc, 'ok--')\n",
    "ax.set_xscale('log', base=2)\n",
    "plt.grid(True)"
   ],
   "id": "c407873f45a287ac",
   "outputs": [
    {
     "name": "stdout",
     "output_type": "stream",
     "text": [
      "[0.50899071 0.55429119 0.57380414 0.58353597 0.58836418 0.59035325\n",
      " 0.59151167 0.59216255 0.59221762 0.59254915 0.592592  ]\n"
     ]
    },
    {
     "data": {
      "text/plain": [
       "<Figure size 640x480 with 1 Axes>"
      ],
      "image/png": "[encoded data removed]"
     },
     "metadata": {},
     "output_type": "display_data"
    }
   ],
   "execution_count": 51
  },
  {
   "cell_type": "markdown",
   "id": "c6fe1594327d6779",
   "metadata": {},
   "source": [
    "Bei Berechnung in eins ist wenig Kontrolle über einzelne $L$. Einzeln berechnen und Ergebnis in Array eintragen ist vorteilhafter.\n",
    "\n",
    "Bei 20 Prozessen kommt es ab $L=2^{13}$ zu Arbeitsspeicher Problemen. Durch Verringerung auf 10 Prozesse konnte $p_c$ in etwa 30 Min. berechnet werden.\n",
    "$L=2^{14}$ könnte Schätzungsweise in 1 bis 2 h berechnet werden, Auflösung müsste aber kleiner gewählt werden für aussagekräftiges Ergebnis.\n",
    " \n",
    "Ergebniss: $\\lim_{L\\rightarrow\\infty} p_c \\approx 60\\%$"
   ]
  }
 ],
 "metadata": {
  "kernelspec": {
   "display_name": "Python 3",
   "language": "python",
   "name": "python3"
  },
  "language_info": {
   "codemirror_mode": {
    "name": "ipython",
    "version": 3
   },
   "file_extension": ".py",
   "mimetype": "text/x-python",
   "name": "python",
   "nbconvert_exporter": "python",
   "pygments_lexer": "ipython3",
   "version": "3.13.0"
  }
 },
 "nbformat": 4,
 "nbformat_minor": 5
}
