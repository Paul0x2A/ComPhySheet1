{
 "cells": [
  {
   "cell_type": "code",
   "execution_count": 1,
   "id": "initial_id",
   "metadata": {
    "ExecuteTime": {
     "end_time": "2024-11-10T14:16:22.868035Z",
     "start_time": "2024-11-10T14:16:22.481567Z"
    },
    "collapsed": true
   },
   "outputs": [],
   "source": [
    "%load_ext autoreload\n",
    "%autoreload 2\n",
    "\n",
    "import time\n",
    "from functools import partial\n",
    "\n",
    "import network\n",
    "import numpy as np\n",
    "import matplotlib.pyplot as plt\n",
    "from multiprocessing import Pool"
   ]
  },
  {
   "cell_type": "markdown",
   "id": "8e25e50e0932462",
   "metadata": {},
   "source": [
    "Echter code befindet sich in ex2b.py. Jupyter verträgt sich nicht mit multiprocessing. Daher nur plotten der Ergebnissse hier."
   ]
  },
  {
   "cell_type": "code",
   "execution_count": 18,
   "id": "df990dbad222c2c0",
   "metadata": {
    "ExecuteTime": {
     "end_time": "2024-11-10T10:25:43.584761Z",
     "start_time": "2024-11-10T10:25:43.536693Z"
    }
   },
   "outputs": [],
   "source": [
    "a = 0 # value to check if min_p was too high\n",
    "\n",
    "# finds smallest p where a grid of size L perculates\n",
    "def calc_pc_once(L, min_p, step):\n",
    "    p = min_p\n",
    "    while True:\n",
    "        n = network.Network(int(L), int(L), p)\n",
    "        n.hoshen_kopelman()\n",
    "        if n.is_percolating():\n",
    "            if p < min_p + step:\n",
    "                global a\n",
    "                a += 1\n",
    "            return p\n",
    "        p += step\n",
    "\n",
    "# finds smallest p where a grid of size L perculates with multiple runs and averaging the result\n",
    "def calc_pc(L, min_p=0.50, step=0.01, amount=50):\n",
    "    pcs = np.zeros(amount)\n",
    "    for i in range(amount):\n",
    "        pcs[i] = calc_pc_once(L, min_p, step)\n",
    "    return np.average(pcs[pcs > 0])\n",
    "\n",
    "# finds smallest p where a grid of size L perculates with multiple runs running parallel and averaging the result\n",
    "def calc_pc_multiproc(L, min_p=0.50, step=0.01, amount=50):\n",
    "    args = np.full(amount, L, dtype=np.int32)\n",
    "    with Pool(processes=20) as pool:\n",
    "        pcs = np.array(pool.map(partial(calc_pc_once, min_p=min_p, step=step), args))\n",
    "    print(pcs)\n",
    "    return np.average(pcs[pcs > 0])\n",
    "\n",
    "def do_ex(L, min_p=0.50, step=0.01, amount=50):\n",
    "    t = time.perf_counter()\n",
    "    pc = calc_pc_multiproc(L, min_p, step, amount)\n",
    "    print(f'Size {L} took {time.perf_counter() - t} seconds')\n",
    "    return pc"
   ]
  },
  {
   "cell_type": "markdown",
   "id": "c6fe1594327d6779",
   "metadata": {},
   "source": [
    "Bei Berechnung in eins ist wenig Kontrolle über einzelne $L$. Einzeln berechnen und Ergebnis in Array eintragen ist vorteilhafter.\n",
    "\n",
    "Bei 20 Prozessen kommt es ab $L=2^{13}$ zu Arbeitsspeicher Problemen. Durch Verringerung auf 10 Prozesse konnte $p_c$ in etwa 30 Min. berechnet werden.\n",
    "$L=2^{14}$ könnte Schätzungsweise in 1 bis 2 h berechnet werden, Auflösung müsste aber kleiner gewählt werden für aussagekräftiges Ergebnis.\n",
    " \n",
    "Ergebniss: $\\lim_{L\\rightarrow\\infty} p_c \\approx 60\\%$"
   ]
  },
  {
   "cell_type": "code",
   "execution_count": null,
   "id": "6a497bd862e2acca",
   "metadata": {
    "ExecuteTime": {
     "end_time": "2024-11-10T14:17:24.329956Z",
     "start_time": "2024-11-10T14:17:24.194547Z"
    }
   },
   "outputs": [
    {
     "data": {
      "image/png": "[encoded data removed]",
      "text/plain": [
       "<Figure size 640x480 with 1 Axes>"
      ]
     },
     "metadata": {},
     "output_type": "display_data"
    }
   ],
   "source": [
    "L = 2 ** np.array(range(3, 13 + 1))\n",
    "pc = [0.37968, 0.47916, 0.53696, 0.56392, 0.58584, 0.58796, 0.5916, 0.59244, 0.59308, 0.59376, 0.59372]\n",
    "#print(do_ex(2**3, min_p=0.20, step=0.002, amount=50)) # 0.37968\n",
    "#print(do_ex(2**4, min_p=0.30, step=0.002, amount=50)) # 0.47916\n",
    "#print(do_ex(2**5, min_p=0.40, step=0.002, amount=50)) # 0.53696\n",
    "#print(do_ex(2**6, min_p=0.50, step=0.002, amount=50)) # 0.56392\n",
    "#print(do_ex(2**7, min_p=0.580, step=0.002, amount=50)) # 0.58584\n",
    "#print(do_ex(2**8, min_p=0.580, step=0.002, amount=50)) # 0.58796 # 3.7s\n",
    "#print(do_ex(2**9, min_p=0.584, step=0.002, amount=50)) # 0.5916 # 10.8s\n",
    "#print(do_ex(2**10, min_p=0.586, step=0.002, amount=50)) # 0.59244 # 32.9s\n",
    "#print(do_ex(2**11, min_p=0.588, step=0.002, amount=50)) # 0.59308 # 109.3s\n",
    "#print(do_ex(2**12, min_p=0.588, step=0.002, amount=50)) # 0.59376 # 472.9s\n",
    "#print(do_ex(2**13, min_p=0.590, step=0.002, amount=50)) # 0.59372 # 1895.9s with 10 processes\n",
    "#print(do_ex(2**14, min_p=0.55, step=0.01, amount=5)) #\n",
    "\n",
    "fig, ax = plt.subplots()\n",
    "ax.plot(L, pc, 'ok--')\n",
    "ax.set_xscale('log', base=2)\n",
    "plt.grid(True)"
   ]
  }
 ],
 "metadata": {
  "kernelspec": {
   "display_name": "Python 3",
   "language": "python",
   "name": "python3"
  },
  "language_info": {
   "codemirror_mode": {
    "name": "ipython",
    "version": 3
   },
   "file_extension": ".py",
   "mimetype": "text/x-python",
   "name": "python",
   "nbconvert_exporter": "python",
   "pygments_lexer": "ipython3",
   "version": "3.13.0"
  }
 },
 "nbformat": 4,
 "nbformat_minor": 5
}
