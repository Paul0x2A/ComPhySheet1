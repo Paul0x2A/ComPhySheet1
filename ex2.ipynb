{
 "cells": [
  {
   "cell_type": "code",
   "id": "initial_id",
   "metadata": {
    "collapsed": true,
    "ExecuteTime": {
     "end_time": "2024-11-20T15:20:27.124916Z",
     "start_time": "2024-11-20T15:20:26.580843Z"
    }
   },
   "source": [
    "%load_ext autoreload\n",
    "%autoreload 2\n",
    "\n",
    "import time\n",
    "from functools import partial\n",
    "\n",
    "import network\n",
    "import numpy as np\n",
    "import matplotlib.pyplot as plt\n",
    "from multiprocessing import Pool\n",
    "\n",
    "from numba import jit, objmode, types\n",
    "from numba import int32, uint32, float32, bool"
   ],
   "outputs": [],
   "execution_count": 1
  },
  {
   "cell_type": "markdown",
   "id": "8e25e50e0932462",
   "metadata": {},
   "source": [
    "# Aufgabe 2\n",
    "Ermitteln der Perkolationsschwelle $p_c$ für verschiedene $L$ mit jeweils 50 berechnungen und dann Mittelung dieser Werte.\n",
    "Es wird mit $L=8=2^3$ gestartet und dann so lange verdoppelt wie der PC damit klarkommt.\n",
    "\n",
    "Um die Perkolationsschwelle für ein Gitter zu bestimmen wird bei einem geeigneten $p_{min}$ gestartet und so lange $2\\%$ addiert bis ein Cluster perkoliert.\n",
    "Dann wird wieder ein Schritt zurückgegangen bei $p$ und die Schrittweite gefünftelt (also $0,4\\%$). Nun wird wieder so lange $p$ erhöht mit der neuen Schrittweite, bis ein Cluster perkoliert. Das Fünfteln wird fünfmal vorgenommen, sodass theoretisch eine Genauigkeit von $\\pm0,00064\\%$ entsteht.\n",
    "\n",
    "Im ersten Codeblock befindet sich der Algorithmus zur Berechnung der Perkolationsschwelle."
   ]
  },
  {
   "metadata": {
    "ExecuteTime": {
     "end_time": "2024-11-20T15:21:27.890583Z",
     "start_time": "2024-11-20T15:21:05.793751Z"
    }
   },
   "cell_type": "code",
   "source": [
    "@jit()\n",
    "def to_str(num):\n",
    "    return f'{int(num * 1e6)}'\n",
    "\n",
    "@jit(float32(int32, float32, float32[:])) # annotate to tell numba to compile (argument is the method signature, its optional but can help prevent issues)\n",
    "def calc_pc_once2(L, min_p=0.5, info=None):\n",
    "    if info is None: info = np.zeros(2, dtype=np.float32)\n",
    "    step_step = 5.0 # factor to decrease step by\n",
    "    step = 0.02 * step_step # amount to increase p by each iteration (increased, because it's decreased at the start)\n",
    "    p = min_p + step # start p ((increased, because it's decreased at the start))\n",
    "    for i in range(5): # divide step 5 times in total\n",
    "        p -= step # go back a step because it might have percolated\n",
    "        step /= step_step # lower resolution and search again, start with 0.02 -> 0.004 -> 0.0008 -> 0.00016 -> 0.000032 -> 0.0000064\n",
    "        percolated = False\n",
    "        while not percolated:\n",
    "            n = network.Network(int(L), int(L), p)\n",
    "            n.hoshen_kopelman()\n",
    "            info[1] += 1 # total number of grids\n",
    "            if n.is_percolating():\n",
    "                if i == 0 and p < min_p + step:\n",
    "                    raise Exception(\"starting p was set to high\")\n",
    "                percolated = True # search again with lower resolution\n",
    "            else:\n",
    "                p += step # not percolating, try higher p\n",
    "    return p\n",
    "\n",
    "# finds smallest p where a grid of size L perculates with multiple runs and averaging the result\n",
    "@jit(float32(int32, float32, int32, float32[:]), fastmath=True)\n",
    "def calc_pc(L, min_p=0.50, amount=50, fail=None):\n",
    "    pcs = np.zeros(amount)\n",
    "    for i in range(amount):\n",
    "        pcs[i] = calc_pc_once2(L, min_p, fail)\n",
    "    #print(pcs)\n",
    "    return np.average(pcs[pcs > 0])\n",
    "\n",
    "def do_ex(L, min_p=0.50, amount=50):\n",
    "    info = np.zeros(2, dtype=np.float32)\n",
    "    t = time.perf_counter()\n",
    "    pc = calc_pc(L, min_p, amount, info)\n",
    "    print(f'Size {L} took {round(time.perf_counter() - t, 4)} seconds for a total of {info[1]} grids and min_p {min_p}')\n",
    "    return pc"
   ],
   "id": "7851a758915a5549",
   "outputs": [],
   "execution_count": 3
  },
  {
   "metadata": {},
   "cell_type": "markdown",
   "source": "Nun wird $p_c$ für $L=2^3$ bis $L=2^{11}$ berechnet.",
   "id": "c9ad61beee8d64f3"
  },
  {
   "metadata": {
    "ExecuteTime": {
     "end_time": "2024-11-20T15:23:24.479251Z",
     "start_time": "2024-11-20T15:21:43.392475Z"
    }
   },
   "cell_type": "code",
   "source": [
    "\n",
    "exp = np.array(range(3, 11 + 1))\n",
    "pc = np.zeros(len(exp))\n",
    "for i in exp:\n",
    "    pc[i-3] = do_ex(2**i, min_p=0.5 if i >= 6 else (i-1)*0.1)\n"
   ],
   "id": "e73494514dda47f7",
   "outputs": [
    {
     "name": "stdout",
     "output_type": "stream",
     "text": [
      "Size 8 took 0.0086 seconds for a total of 2472.0 grids and min_p 0.2\n",
      "Size 16 took 0.0098 seconds for a total of 1640.0 grids and min_p 0.30000000000000004\n",
      "Size 32 took 0.0182 seconds for a total of 1198.0 grids and min_p 0.4\n",
      "Size 64 took 0.0455 seconds for a total of 931.0 grids and min_p 0.5\n",
      "Size 128 took 0.2084 seconds for a total of 1151.0 grids and min_p 0.5\n",
      "Size 256 took 0.7324 seconds for a total of 1046.0 grids and min_p 0.5\n",
      "Size 512 took 4.6149 seconds for a total of 1142.0 grids and min_p 0.5\n",
      "Size 1024 took 19.0641 seconds for a total of 1025.0 grids and min_p 0.5\n",
      "Size 2048 took 76.3135 seconds for a total of 1018.0 grids and min_p 0.5\n"
     ]
    }
   ],
   "execution_count": 4
  },
  {
   "metadata": {},
   "cell_type": "markdown",
   "source": "Definiere nun eine Funktion die automatisch die nächst größere Ordnung berechnet.",
   "id": "a4cca949dc9e77a3"
  },
  {
   "metadata": {
    "ExecuteTime": {
     "end_time": "2024-11-20T15:25:05.875375Z",
     "start_time": "2024-11-20T15:25:05.814943Z"
    }
   },
   "cell_type": "code",
   "source": [
    "old_exp = exp\n",
    "old_pc = pc\n",
    "\n",
    "def reset():\n",
    "    exp = old_exp\n",
    "    pc = old_pc\n",
    "\n",
    "def do_next():\n",
    "    global exp, pc\n",
    "    exp = np.array([*exp, exp[-1] + 1])\n",
    "    pc = np.array([*pc, 0])\n",
    "    pc[-1] = do_ex(2**exp[-1], min_p=0.5)"
   ],
   "id": "6481773804941245",
   "outputs": [],
   "execution_count": 5
  },
  {
   "metadata": {},
   "cell_type": "markdown",
   "source": "Berechnungen für $L>2^{11}$ separat wegen langer Laufzeiten.",
   "id": "1905179265da852c"
  },
  {
   "metadata": {
    "ExecuteTime": {
     "end_time": "2024-11-20T15:30:47.062306Z",
     "start_time": "2024-11-20T15:25:14.847542Z"
    }
   },
   "cell_type": "code",
   "source": "do_next() # 4096",
   "id": "1fd39cd16521b483",
   "outputs": [
    {
     "name": "stdout",
     "output_type": "stream",
     "text": [
      "Size 4096 took 332.1357 seconds for a total of 1100.0 grids and min_p 0.5\n"
     ]
    }
   ],
   "execution_count": 6
  },
  {
   "metadata": {
    "ExecuteTime": {
     "end_time": "2024-11-20T15:53:49.538302Z",
     "start_time": "2024-11-20T15:32:23.740331Z"
    }
   },
   "cell_type": "code",
   "source": "do_next() # 8192",
   "id": "93be7e71a1cc71d8",
   "outputs": [
    {
     "name": "stdout",
     "output_type": "stream",
     "text": [
      "Size 8192 took 1285.7467 seconds for a total of 1047.0 grids and min_p 0.5\n"
     ]
    }
   ],
   "execution_count": 7
  },
  {
   "metadata": {
    "ExecuteTime": {
     "end_time": "2024-11-20T17:12:38.719248Z",
     "start_time": "2024-11-20T15:54:05.549406Z"
    }
   },
   "cell_type": "code",
   "source": "do_next()",
   "id": "ecc3bbe8fa1bac43",
   "outputs": [
    {
     "name": "stdout",
     "output_type": "stream",
     "text": [
      "Size 16384 took 4713.0955 seconds for a total of 1051.0 grids and min_p 0.5\n"
     ]
    }
   ],
   "execution_count": 8
  },
  {
   "metadata": {
    "ExecuteTime": {
     "end_time": "2024-11-20T17:14:42.075677Z",
     "start_time": "2024-11-20T17:14:41.672155Z"
    }
   },
   "cell_type": "code",
   "source": [
    "print(pc)\n",
    "fig, ax = plt.subplots()\n",
    "ax.plot(2**exp, pc, 'ok--')\n",
    "ax.set_xscale('log', base=2)\n",
    "plt.grid(True)"
   ],
   "id": "c407873f45a287ac",
   "outputs": [
    {
     "name": "stdout",
     "output_type": "stream",
     "text": [
      "[0.48205698 0.55661571 0.58044416 0.58586049 0.58675903 0.58968449\n",
      " 0.59031677 0.59217983 0.59228289 0.59245825 0.59267777 0.59266752]\n"
     ]
    },
    {
     "data": {
      "text/plain": [
       "<Figure size 640x480 with 1 Axes>"
      ],
      "image/png": "[encoded data removed]"
     },
     "metadata": {},
     "output_type": "display_data"
    }
   ],
   "execution_count": 9
  },
  {
   "cell_type": "markdown",
   "id": "c6fe1594327d6779",
   "metadata": {},
   "source": "Damit lässt sich die Perkolationsschwelle auf $59,27\\% < p_c < 59,3\\%$ einschränken."
  }
 ],
 "metadata": {
  "kernelspec": {
   "display_name": "Python 3",
   "language": "python",
   "name": "python3"
  },
  "language_info": {
   "codemirror_mode": {
    "name": "ipython",
    "version": 3
   },
   "file_extension": ".py",
   "mimetype": "text/x-python",
   "name": "python",
   "nbconvert_exporter": "python",
   "pygments_lexer": "ipython3",
   "version": "3.13.0"
  }
 },
 "nbformat": 4,
 "nbformat_minor": 5
}
