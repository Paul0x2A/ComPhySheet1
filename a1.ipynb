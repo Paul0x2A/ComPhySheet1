{
 "cells": [
  {
   "cell_type": "code",
   "execution_count": 2,
   "id": "initial_id",
   "metadata": {
    "ExecuteTime": {
     "end_time": "2024-11-01T16:13:02.547063Z",
     "start_time": "2024-11-01T16:13:02.545028Z"
    },
    "collapsed": true
   },
   "outputs": [],
   "source": [
    "%load_ext autoreload\n",
    "%autoreload 2\n",
    "\n",
    "import network\n",
    "import matplotlib.pyplot as plt"
   ]
  },
  {
   "cell_type": "code",
   "execution_count": null,
   "id": "e2e2b3d6ef43832c",
   "metadata": {
    "ExecuteTime": {
     "end_time": "2024-11-01T16:12:21.947550Z",
     "start_time": "2024-11-01T16:12:21.944978Z"
    }
   },
   "outputs": [],
   "source": [
    "L = 4096\n",
    "p = 0.5\n",
    "P = network.Network(L, L, p)\n",
    "P.hoshen_kopelman()\n",
    "P.draw_raw_network('a1')\n",
    "#P.draw_labeled_network('a1_label')"
   ]
  }
 ],
 "metadata": {
  "kernelspec": {
   "display_name": "Python 3",
   "language": "python",
   "name": "python3"
  },
  "language_info": {
   "codemirror_mode": {
    "name": "ipython",
    "version": 3
   },
   "file_extension": ".py",
   "mimetype": "text/x-python",
   "name": "python",
   "nbconvert_exporter": "python",
   "pygments_lexer": "ipython3",
   "version": "3.13.0"
  }
 },
 "nbformat": 4,
 "nbformat_minor": 5
}
